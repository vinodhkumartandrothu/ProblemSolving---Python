{
  "nbformat": 4,
  "nbformat_minor": 0,
  "metadata": {
    "colab": {
      "provenance": []
    },
    "kernelspec": {
      "name": "python3",
      "display_name": "Python 3"
    },
    "language_info": {
      "name": "python"
    }
  },
  "cells": [
    {
      "cell_type": "code",
      "execution_count": 3,
      "metadata": {
        "colab": {
          "base_uri": "https://localhost:8080/"
        },
        "id": "KhCobhMuP_qA",
        "outputId": "ee173740-7584-4316-ec96-2fcd83d52bf5"
      },
      "outputs": [
        {
          "output_type": "execute_result",
          "data": {
            "text/plain": [
              "2"
            ]
          },
          "metadata": {},
          "execution_count": 3
        }
      ],
      "source": [
        "def is_split_a_balanced_string(s):\n",
        "  l_str = 0\n",
        "  r_str = 0\n",
        "  bal_str = 0\n",
        "\n",
        "  for i in s:\n",
        "    if i == 'L':\n",
        "      l_str += 1\n",
        "    else:\n",
        "      r_str+=1\n",
        "    \n",
        "    if l_str == r_str:\n",
        "      bal_str += 1\n",
        "      l_str=0\n",
        "      r_str=0\n",
        "  return bal_str\n",
        "\n",
        "s = 'RLRRLLRLRL'\n",
        "s = 'RLRRRLLRLL'\n",
        "is_split_a_balanced_string(s)"
      ]
    }
  ]
}