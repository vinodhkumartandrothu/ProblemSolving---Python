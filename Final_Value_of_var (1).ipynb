{
  "nbformat": 4,
  "nbformat_minor": 0,
  "metadata": {
    "colab": {
      "provenance": []
    },
    "kernelspec": {
      "name": "python3",
      "display_name": "Python 3"
    },
    "language_info": {
      "name": "python"
    }
  },
  "cells": [
    {
      "cell_type": "code",
      "execution_count": 14,
      "metadata": {
        "colab": {
          "base_uri": "https://localhost:8080/"
        },
        "id": "Ktsk3mOmw5qk",
        "outputId": "ef3daf13-3cfb-477d-d8e1-da876c1b4b2a"
      },
      "outputs": [
        {
          "output_type": "execute_result",
          "data": {
            "text/plain": [
              "0"
            ]
          },
          "metadata": {},
          "execution_count": 14
        }
      ],
      "source": [
        "def is_Final_val_var(oper):\n",
        "  x = 0\n",
        "  for i in oper:\n",
        "    if i == \"--X\" or i == \"X--\":\n",
        "      x = x -1\n",
        "      #print(x)\n",
        "    elif i == \"++X\" or i == \"X++\":\n",
        "      x = x + 1\n",
        "      #print(x)\n",
        "  return x\n",
        "\n",
        "\n",
        "oper = [\"--x\", \"++x\", \"x++\"]\n",
        "oper = [\"++X\",\"++X\",\"X++\"]\n",
        "oper = [\"x++\",\"++x\",\"--x\",\"x--\"]\n",
        "is_Final_val_var(oper)"
      ]
    }
  ]
}