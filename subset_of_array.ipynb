{
  "nbformat": 4,
  "nbformat_minor": 0,
  "metadata": {
    "colab": {
      "provenance": []
    },
    "kernelspec": {
      "name": "python3",
      "display_name": "Python 3"
    },
    "language_info": {
      "name": "python"
    }
  },
  "cells": [
    {
      "cell_type": "code",
      "execution_count": null,
      "metadata": {
        "colab": {
          "base_uri": "https://localhost:8080/"
        },
        "id": "v6Xe8Hcm6xtx",
        "outputId": "c3305f98-14eb-4082-bcd1-f88ec164a13f"
      },
      "outputs": [
        {
          "output_type": "stream",
          "name": "stdout",
          "text": [
            "y is a subest of x\n"
          ]
        }
      ],
      "source": [
        "def subset_of_another_array(x, y, n, m):\n",
        "  count = 0\n",
        "  for i in range(m):\n",
        "    for j in range(n):\n",
        "      if y[i] == x[j]:\n",
        "        count += 1\n",
        "  #print(\"y is a subest of x\")\n",
        "  if count == m:\n",
        "    print(\"y is a subest of x\")\n",
        "  else:\n",
        "        print(\"y is not a subset of x\")\n",
        "\n",
        "\n",
        "x = [2,8,12,6,10,11]\n",
        "y = [8,2,6,12]\n",
        "n = len(x)\n",
        "m = len(y)\n",
        "subset_of_another_array(x,y, n,m)\n"
      ]
    },
    {
      "cell_type": "markdown",
      "source": [
        "####Hashmap\n"
      ],
      "metadata": {
        "id": "Fc2qdgHQEXfY"
      }
    },
    {
      "cell_type": "code",
      "source": [
        "def subset_of_another_array(x, y, n, m):\n",
        "  dict1 = set()\n",
        "  for i in range(0,n):\n",
        "    dict1.add(x[i])\n",
        "  #print(dict1)\n",
        "\n",
        "  count = 0\n",
        "  for j in range(0, m):\n",
        "    if y[j] in dict1:\n",
        "      count += 1\n",
        "\n",
        "\n",
        "  if count == m:\n",
        "    print(\"y is a subest of x\")\n",
        "  else:\n",
        "    print(\"y is not a subset of x\")\n",
        "\n",
        "\n",
        "\n",
        "\n",
        "x = [2,8,12,6,10,11]\n",
        "y = [8,2,6,12]\n",
        "n = len(x)\n",
        "m = len(y)\n",
        "subset_of_another_array(x,y, n,m)\n",
        "\n"
      ],
      "metadata": {
        "id": "HNgu00CQEZQS",
        "colab": {
          "base_uri": "https://localhost:8080/"
        },
        "outputId": "ea4849a2-ed52-4fb6-9c23-7ed27b50094d"
      },
      "execution_count": null,
      "outputs": [
        {
          "output_type": "stream",
          "name": "stdout",
          "text": [
            "y is a subest of x\n"
          ]
        }
      ]
    },
    {
      "cell_type": "code",
      "source": [
        "def subset_of_another_array(x, y, n, m):\n",
        "    dict1 = {}\n",
        "\n",
        "    # Create a frequency dictionary for list x\n",
        "    for element in x:\n",
        "        if element in dict1:\n",
        "            dict1[element] += 1\n",
        "        else:\n",
        "            dict1[element] = 1\n",
        "\n",
        "    # Check if elements in list y are present in x with the correct frequency\n",
        "    for element in y:\n",
        "        if element in dict1 and dict1[element] > 0:\n",
        "            dict1[element] -= 1\n",
        "        else:\n",
        "            print(\"y is not a subset of x\")\n",
        "            return\n",
        "\n",
        "    print(\"y is a subset of x\")\n",
        "\n",
        "x = [2, 8, 12, 6, 10, 11, 13, 8]\n",
        "y = [8, 2, 6, 12, 8]\n",
        "n = len(x)\n",
        "m = len(y)\n",
        "subset_of_another_array(x, y, n, m)"
      ],
      "metadata": {
        "colab": {
          "base_uri": "https://localhost:8080/"
        },
        "id": "4TYcU8h9MsWd",
        "outputId": "7603b8cf-2a9f-4106-adc9-cfadd01e2750"
      },
      "execution_count": null,
      "outputs": [
        {
          "output_type": "stream",
          "name": "stdout",
          "text": [
            "y is a subset of x\n"
          ]
        }
      ]
    }
  ]
}