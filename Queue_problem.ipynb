{
  "nbformat": 4,
  "nbformat_minor": 0,
  "metadata": {
    "colab": {
      "provenance": []
    },
    "kernelspec": {
      "name": "python3",
      "display_name": "Python 3"
    },
    "language_info": {
      "name": "python"
    }
  },
  "cells": [
    {
      "cell_type": "markdown",
      "source": [
        "##### Time Complexity - O(max(n,k))\n",
        "##### Space Complexity - O(n)"
      ],
      "metadata": {
        "id": "AkuKmOi0P3FB"
      }
    },
    {
      "cell_type": "code",
      "execution_count": 45,
      "metadata": {
        "colab": {
          "base_uri": "https://localhost:8080/"
        },
        "id": "bBasBfjEh1vE",
        "outputId": "87d3fc7b-777f-451a-d30b-747317412199"
      },
      "outputs": [
        {
          "output_type": "stream",
          "name": "stdout",
          "text": [
            "[2, 0]\n",
            "[2, 2]\n",
            "[3, 0, 2]\n"
          ]
        }
      ],
      "source": [
        "def ind_arr(l,k):\n",
        "    for i in range(len(l)):\n",
        "      l[i] = [l[i], i]\n",
        "    \n",
        "    for i in range(k):\n",
        "      if l[0][0] == 1:\n",
        "        l.pop(0)\n",
        "      else:\n",
        "        temp = l.pop(0)\n",
        "        #print(temp[0])\n",
        "        temp[0] = temp[0] - 1\n",
        "        print(temp)\n",
        "        l.append(temp)\n",
        "    ans = [i[1] for i in l]\n",
        "    print(ans)\n",
        "\n",
        "\n",
        "\n",
        "\n",
        "l = [3,1,3,2]\n",
        "k = 3\n",
        "ind_arr(l,k)"
      ]
    },
    {
      "cell_type": "code",
      "source": [
        "N = 5\n",
        "l = [1,23,4]\n",
        "arr = [i for i in l]\n",
        "print(arr)"
      ],
      "metadata": {
        "colab": {
          "base_uri": "https://localhost:8080/"
        },
        "id": "Tp1pOPhXsFF2",
        "outputId": "fae93805-9f87-4324-8fb5-9794c047b35c"
      },
      "execution_count": 27,
      "outputs": [
        {
          "output_type": "stream",
          "name": "stdout",
          "text": [
            "[1, 23, 4]\n"
          ]
        }
      ]
    },
    {
      "cell_type": "code",
      "source": [
        "arr=[]\n",
        "rows, cols=5,5\n",
        "for i in range(rows):\n",
        "    col = []\n",
        "    for j in range(cols):\n",
        "        col.append(1)\n",
        "    arr.append(col)\n",
        "    print (arr[0][0])\n",
        "print(arr)"
      ],
      "metadata": {
        "colab": {
          "base_uri": "https://localhost:8080/"
        },
        "id": "z1-2wrdaH8oL",
        "outputId": "aada7e6f-8024-493a-dc0e-c1a447bed5d5"
      },
      "execution_count": 31,
      "outputs": [
        {
          "output_type": "stream",
          "name": "stdout",
          "text": [
            "1\n",
            "1\n",
            "1\n",
            "1\n",
            "1\n",
            "[[1, 1, 1, 1, 1], [1, 1, 1, 1, 1], [1, 1, 1, 1, 1], [1, 1, 1, 1, 1], [1, 1, 1, 1, 1]]\n"
          ]
        }
      ]
    }
  ]
}