{
  "nbformat": 4,
  "nbformat_minor": 0,
  "metadata": {
    "colab": {
      "provenance": []
    },
    "kernelspec": {
      "name": "python3",
      "display_name": "Python 3"
    },
    "language_info": {
      "name": "python"
    }
  },
  "cells": [
    {
      "cell_type": "code",
      "execution_count": 12,
      "metadata": {
        "colab": {
          "base_uri": "https://localhost:8080/"
        },
        "id": "n8Z8HB7ETvtJ",
        "outputId": "49587468-f012-4610-8581-e17446f765d6"
      },
      "outputs": [
        {
          "output_type": "stream",
          "name": "stdout",
          "text": [
            "Number of good pairs : 4\n"
          ]
        }
      ],
      "source": [
        "def good_pairs(nums, n):\n",
        "  count = 0\n",
        "  for i in range(n):\n",
        "    j = i + 1\n",
        "    for j in range(n):\n",
        "      if (nums[i] == nums[j] and i < j):\n",
        "        count += 1\n",
        "  print(\"Number of good pairs :\", count)\n",
        "\n",
        "nums = [1,2,3,1,1,3]\n",
        "n = len(nums)\n",
        "good_pairs(nums, n)\n",
        "\n"
      ]
    },
    {
      "cell_type": "markdown",
      "source": [
        "####Hashmap"
      ],
      "metadata": {
        "id": "KWUbUCfbV-Sn"
      }
    },
    {
      "cell_type": "code",
      "source": [
        "def good_pairs(nums, n):\n",
        "  dict1 = dict()\n",
        "  count = 0\n",
        "  for num in nums:\n",
        "    if num in dict1:\n",
        "      count += dict1[num]\n",
        "      dict1[num] += 1\n",
        "    else:\n",
        "      dict1[num] = 1\n",
        "  return count\n",
        "\n",
        "#nums = [1,2,3,1,1,3]\n",
        "nums = [1,1,1,1]\n",
        "n = len(nums)\n",
        "good_pairs(nums, n)"
      ],
      "metadata": {
        "colab": {
          "base_uri": "https://localhost:8080/"
        },
        "id": "Q2xTLRDLWCBy",
        "outputId": "24482b16-29c0-497e-ae71-c71b45cb5f99"
      },
      "execution_count": 15,
      "outputs": [
        {
          "output_type": "execute_result",
          "data": {
            "text/plain": [
              "6"
            ]
          },
          "metadata": {},
          "execution_count": 15
        }
      ]
    }
  ]
}