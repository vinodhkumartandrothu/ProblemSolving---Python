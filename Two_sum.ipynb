{
  "nbformat": 4,
  "nbformat_minor": 0,
  "metadata": {
    "colab": {
      "provenance": []
    },
    "kernelspec": {
      "name": "python3",
      "display_name": "Python 3"
    },
    "language_info": {
      "name": "python"
    }
  },
  "cells": [
    {
      "cell_type": "code",
      "execution_count": 7,
      "metadata": {
        "colab": {
          "base_uri": "https://localhost:8080/"
        },
        "id": "wRkLUTxzlURB",
        "outputId": "19064d7a-1e2b-4d3b-85f9-70d4f2f28d92"
      },
      "outputs": [
        {
          "output_type": "execute_result",
          "data": {
            "text/plain": [
              "[1, 2]"
            ]
          },
          "metadata": {},
          "execution_count": 7
        }
      ],
      "source": [
        "def two_sum(num, target):\n",
        "  sum = 0\n",
        "  res = 0\n",
        "  for i in range(len(num)-1):\n",
        "    for j in range(i+1, len(num)):\n",
        "      sum = num[i]+num[j]\n",
        "      #print(sum)\n",
        "      res = sum\n",
        "      if res == target:\n",
        "        return [i,j]\n",
        "\n",
        "num = [3,4,2]\n",
        "target = 6\n",
        "two_sum(num, target)"
      ]
    }
  ]
}