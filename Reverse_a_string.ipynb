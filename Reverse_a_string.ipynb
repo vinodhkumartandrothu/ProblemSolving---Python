
def reverse(s):
    str = ""
    for i in s:
        str = i + str
    return str
 
s = "hey hi"
 
print("The original string is : ", end="")
print(s)
 
print("The reversed string is : ", end="")
print(reverse(s))
