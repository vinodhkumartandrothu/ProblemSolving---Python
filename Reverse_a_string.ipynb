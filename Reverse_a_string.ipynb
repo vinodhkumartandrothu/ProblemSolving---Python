{
  "nbformat": 4,
  "nbformat_minor": 0,
  "metadata": {
    "colab": {
      "provenance": []
    },
    "kernelspec": {
      "name": "python3",
      "display_name": "Python 3"
    },
    "language_info": {
      "name": "python"
    }
  },
  "cells": [
    {
      "cell_type": "code",
      "execution_count": 2,
      "metadata": {
        "colab": {
          "base_uri": "https://localhost:8080/"
        },
        "id": "EVCLKs9B7Ux_",
        "outputId": "ec5e6303-bf85-4d48-f542-d02bab94a481"
      },
      "outputs": [
        {
          "output_type": "stream",
          "name": "stdout",
          "text": [
            "The original string is : Geeksforgeeks\n",
            "The reversed string is : skeegrofskeeG\n"
          ]
        }
      ],
      "source": [
        "\n",
        "def reverse(s):\n",
        "    str = \"\"\n",
        "    for i in s:\n",
        "        str = i + str\n",
        "    return str\n",
        " \n",
        "s = \"Geeksforgeeks\"\n",
        " \n",
        "print(\"The original string is : \", end=\"\")\n",
        "print(s)\n",
        " \n",
        "print(\"The reversed string is : \", end=\"\")\n",
        "print(reverse(s))"
      ]
    }
  ]
}