{
  "nbformat": 4,
  "nbformat_minor": 0,
  "metadata": {
    "colab": {
      "provenance": []
    },
    "kernelspec": {
      "name": "python3",
      "display_name": "Python 3"
    },
    "language_info": {
      "name": "python"
    }
  },
  "cells": [
    {
      "cell_type": "markdown",
      "source": [
        "##### Stack - Lifo - Last in first out\n",
        "##### In stack, a new element is added at one end and an element is removed from that end only. Insert - Push , Delete - Pop\n",
        "##### empty() – Returns whether the stack is empty – Time Complexity: O(1)size() – Returns the size of the stack – Time Complexity: O(1)\n",
        "##### top() / peek() – Returns a reference to the topmost element of the stack – Time Complexity: O(1)\n",
        "##### push(a) – Inserts the element ‘a’ at the top of the stack – Time Complexity: O(1) pop() – Deletes the topmost element of the stack – Time Complexity: O(1)\n",
        "\n",
        "###### Python’s built-in data structure list can be used as a stack"
      ],
      "metadata": {
        "id": "lJsZS18zpLcV"
      }
    },
    {
      "cell_type": "code",
      "source": [
        "#Stack Implementation using list\n",
        "#List - append and pop opeartions - O(n)\n",
        "# for accessing elements, lists are always a better choice, it's not at all what deques were designed for. - O(1)\n",
        "# append and pop - O(n)\n",
        "stack = []\n",
        "\n",
        "stack.append('a')\n",
        "stack.append('b')\n",
        "stack.append('c')\n",
        "\n",
        "print(stack)\n",
        "\n",
        "print(\"Elemnets after popping out\")\n",
        "print(stack.pop())\n",
        "print(stack.pop())\n",
        "print(stack.pop())\n",
        "\n",
        "\n",
        "print(stack)"
      ],
      "metadata": {
        "colab": {
          "base_uri": "https://localhost:8080/"
        },
        "id": "9aW6G13SqWnm",
        "outputId": "811c10a3-68b5-4489-fb7a-884f9a1b77e8"
      },
      "execution_count": 9,
      "outputs": [
        {
          "output_type": "stream",
          "name": "stdout",
          "text": [
            "['a', 'b', 'c']\n",
            "Elemnets after popping out\n",
            "c\n",
            "b\n",
            "a\n",
            "[]\n"
          ]
        }
      ]
    },
    {
      "cell_type": "code",
      "source": [
        "# Stack implementation using deque from collections module\n",
        "# Deque - append and pop operations = O(1)\n",
        "# \n",
        "\n",
        "from collections import deque\n",
        "\n",
        "stack = deque()\n",
        "\n",
        "stack.append(1)\n",
        "stack.append(2)\n",
        "\n",
        "print(stack)\n",
        "\n",
        "print('\\nElements popped from stack:')\n",
        "print(stack.pop())\n",
        "print(stack.pop())\n",
        "\n",
        "\n",
        "print('\\nStack after elements are popped:')\n",
        "print(stack)"
      ],
      "metadata": {
        "colab": {
          "base_uri": "https://localhost:8080/"
        },
        "id": "kYCJV5bo5uvt",
        "outputId": "18b78dc8-4379-455c-f6ab-77d93706c200"
      },
      "execution_count": 10,
      "outputs": [
        {
          "output_type": "stream",
          "name": "stdout",
          "text": [
            "deque([1, 2])\n",
            "\n",
            "Elements popped from stack:\n",
            "2\n",
            "1\n",
            "\n",
            "Stack after elements are popped:\n",
            "deque([])\n"
          ]
        }
      ]
    },
    {
      "cell_type": "code",
      "source": [
        "# Stack implementation using Queue module - LIFO Queue\n",
        "#Queue module also has a LIFO Queue, which is basically a Stack. Data is inserted into Queue using the put() function \n",
        "#and get() takes data out from the Queue. \n",
        "\n",
        "from queue import LifoQueue\n",
        "\n",
        "stack = LifoQueue(maxsize=3)\n",
        "\n",
        "print(stack.qsize())\n",
        "\n",
        "stack.put(1)\n",
        "stack.put(2)\n",
        "stack.put(3)\n",
        "\n",
        "print(stack.full())\n",
        "print(stack.qsize())\n",
        "\n",
        "stack.get()\n",
        "stack.get()\n",
        "\n",
        "print(stack.full())\n",
        "print(stack.qsize())"
      ],
      "metadata": {
        "colab": {
          "base_uri": "https://localhost:8080/"
        },
        "id": "v6hWAJE6LpDn",
        "outputId": "34f71980-324b-4477-9443-3f654cb0948f"
      },
      "execution_count": 16,
      "outputs": [
        {
          "output_type": "stream",
          "name": "stdout",
          "text": [
            "0\n",
            "True\n",
            "3\n",
            "False\n",
            "1\n"
          ]
        }
      ]
    },
    {
      "cell_type": "code",
      "source": [
        "# The linked list has two methods addHead(item) and removeHead() that run in constant time. These two methods are suitable to implement a stack. \n",
        "\n"
      ],
      "metadata": {
        "id": "_Mf-hlVyPSbY"
      },
      "execution_count": null,
      "outputs": []
    }
  ]
}