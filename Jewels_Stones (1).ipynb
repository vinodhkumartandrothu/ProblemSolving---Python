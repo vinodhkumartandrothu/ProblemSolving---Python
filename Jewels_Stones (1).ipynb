{
  "nbformat": 4,
  "nbformat_minor": 0,
  "metadata": {
    "colab": {
      "provenance": []
    },
    "kernelspec": {
      "name": "python3",
      "display_name": "Python 3"
    },
    "language_info": {
      "name": "python"
    }
  },
  "cells": [
    {
      "cell_type": "code",
      "execution_count": null,
      "metadata": {
        "colab": {
          "base_uri": "https://localhost:8080/"
        },
        "id": "TAkjMY-uYNEy",
        "outputId": "98cb037e-7e40-448b-a99a-5058211d5e18"
      },
      "outputs": [
        {
          "output_type": "stream",
          "name": "stdout",
          "text": [
            "4\n"
          ]
        }
      ],
      "source": [
        "def is_jewels_stones(jewels, stones):\n",
        "  count = 0\n",
        "  for i in jewels:\n",
        "    for j in stones:\n",
        "      if i == j:\n",
        "        count += 1\n",
        "  print(count)\n",
        "jewels = \"aBAC\"\n",
        "stones = \"abcAAC\"\n",
        "is_jewels_stones(jewels, stones)"
      ]
    },
    {
      "cell_type": "code",
      "source": [
        "def is_jewels_stones(jewels, stones):\n",
        "  count = 0\n",
        "  for x in stones:\n",
        "    if x in jewels:\n",
        "      count += 1\n",
        "  return count\n",
        "\n",
        "\n",
        "jewels = \"aBAC\"\n",
        "stones = \"abcAAC\"\n",
        "is_jewels_stones(jewels, stones)"
      ],
      "metadata": {
        "colab": {
          "base_uri": "https://localhost:8080/"
        },
        "id": "bVbQMjpdycbA",
        "outputId": "bdb9e212-a2e3-4420-94f2-129fb5c5faf0"
      },
      "execution_count": 3,
      "outputs": [
        {
          "output_type": "execute_result",
          "data": {
            "text/plain": [
              "4"
            ]
          },
          "metadata": {},
          "execution_count": 3
        }
      ]
    },
    {
      "cell_type": "code",
      "source": [
        "def is_jewels_stones(jewels, stones):\n",
        "\n",
        "    hashtable=dict();\n",
        "    for stone in stones:\n",
        "        if (stone in hashtable):\n",
        "            hashtable[stone]+=1;\n",
        "        else:\n",
        "            hashtable[stone]=1;\n",
        "\n",
        "    #Match and count\n",
        "    output = 0\n",
        "    for jewel in jewels:\n",
        "        if (jewel in hashtable):\n",
        "            output += hashtable[jewel]\n",
        "    \n",
        "    return output\n",
        "\n",
        "jewels = \"aAb\"\n",
        "stones = \"aAAbbbbc\"\n",
        "is_jewels_stones(jewels, stones)\n"
      ],
      "metadata": {
        "colab": {
          "base_uri": "https://localhost:8080/"
        },
        "id": "JN5VeWD61Oyi",
        "outputId": "271de9a3-a6b8-4773-b67c-a6e00dfb3e4f"
      },
      "execution_count": 5,
      "outputs": [
        {
          "output_type": "execute_result",
          "data": {
            "text/plain": [
              "7"
            ]
          },
          "metadata": {},
          "execution_count": 5
        }
      ]
    }
  ]
}