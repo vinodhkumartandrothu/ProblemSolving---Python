{
  "nbformat": 4,
  "nbformat_minor": 0,
  "metadata": {
    "colab": {
      "provenance": []
    },
    "kernelspec": {
      "name": "python3",
      "display_name": "Python 3"
    },
    "language_info": {
      "name": "python"
    }
  },
  "cells": [
    {
      "cell_type": "markdown",
      "source": [
        "#### Time Complexity - O(N*M), Space Complexity - O(N)  M is the maximum number of digits in any element of the list."
      ],
      "metadata": {
        "id": "aQpQgFnDBWS2"
      }
    },
    {
      "cell_type": "code",
      "execution_count": 24,
      "metadata": {
        "colab": {
          "base_uri": "https://localhost:8080/"
        },
        "id": "T33uUtfL2Aa8",
        "outputId": "2a379774-6b13-4ed5-f74e-93f36ed60e24"
      },
      "outputs": [
        {
          "output_type": "stream",
          "name": "stdout",
          "text": [
            "Count of distinct integers: 6\n"
          ]
        }
      ],
      "source": [
        "def countDistinctIntegers(nums):\n",
        "    result = []\n",
        "    count = 0\n",
        "    seen_values = set()\n",
        "\n",
        "    for n in nums:\n",
        "        reverse = 0\n",
        "        number = n\n",
        "\n",
        "        if n not in seen_values:\n",
        "            seen_values.add(n)\n",
        "\n",
        "        while number > 0:\n",
        "            remainder = number % 10\n",
        "            number = number // 10\n",
        "            reverse = reverse * 10 + remainder\n",
        "\n",
        "        if reverse not in seen_values:\n",
        "            seen_values.add(reverse)\n",
        "\n",
        "    return len(seen_values)\n",
        "\n",
        "input_nums = [1,13,10,12,31]\n",
        "\n",
        "\n",
        "distinct_count = countDistinctIntegers(input_nums)\n",
        "\n",
        "\n",
        "print(\"Count of distinct integers:\", distinct_count)\n",
        "\n"
      ]
    },
    {
      "cell_type": "markdown",
      "source": [
        "##### Time Complexity - O(N*M), Space Complexity - O(N)"
      ],
      "metadata": {
        "id": "PQjtKE09OVMq"
      }
    },
    {
      "cell_type": "code",
      "source": [
        "def countDistinctIntegers(nums):\n",
        "    s = set(nums)\n",
        "    for i in nums:\n",
        "        s.add(int(str(i)[::-1]))\n",
        "    return len(s)\n",
        "\n",
        "\n",
        "input_nums = [1,13,10,12,31]\n",
        "distinct_count = countDistinctIntegers(input_nums)\n",
        "print(\"Count of distinct integers:\", distinct_count)"
      ],
      "metadata": {
        "colab": {
          "base_uri": "https://localhost:8080/"
        },
        "id": "DtZ2WzjII4Gt",
        "outputId": "ce864043-8f21-46cd-9f59-0c898265587f"
      },
      "execution_count": 31,
      "outputs": [
        {
          "output_type": "stream",
          "name": "stdout",
          "text": [
            "Count of distinct integers: 6\n"
          ]
        }
      ]
    }
  ]
}