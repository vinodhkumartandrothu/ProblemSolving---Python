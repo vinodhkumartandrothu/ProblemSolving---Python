{
  "nbformat": 4,
  "nbformat_minor": 0,
  "metadata": {
    "colab": {
      "provenance": []
    },
    "kernelspec": {
      "name": "python3",
      "display_name": "Python 3"
    },
    "language_info": {
      "name": "python"
    }
  },
  "cells": [
    {
      "cell_type": "code",
      "execution_count": 17,
      "metadata": {
        "colab": {
          "base_uri": "https://localhost:8080/"
        },
        "id": "YdEGR4Tox1Z7",
        "outputId": "6bd4229c-1955-45bd-fe55-328c485bfe2e"
      },
      "outputs": [
        {
          "output_type": "execute_result",
          "data": {
            "text/plain": [
              "4"
            ]
          },
          "metadata": {},
          "execution_count": 17
        }
      ],
      "source": [
        "def is_max_noof_words_insen(sentences):\n",
        "  count = 0\n",
        "  temp = 0\n",
        "  for i in sentences:\n",
        "    temp = len(i.split(\" \"))\n",
        "    #print(temp)\n",
        "    if temp > count:\n",
        "      count = temp\n",
        "  return count\n",
        "    \n",
        "  \n",
        "sentences = [\"Alice is good\", \"I am very good\"]\n",
        "is_max_noof_words_insen(sentences)"
      ]
    },
    {
      "cell_type": "code",
      "source": [
        "def is_max_noof_words_insen(sentences):\n",
        "  a = []\n",
        "  \n",
        "  for i in sentences:\n",
        "    count = 1\n",
        "    for j in i:\n",
        "      if j == \" \":\n",
        "        count+=1\n",
        "    a.append(count)\n",
        "  return(max(a))\n",
        "\n",
        "sentences = [\"Alice is good\", \"I am very good\"]\n",
        "is_max_noof_words_insen(sentences)"
      ],
      "metadata": {
        "colab": {
          "base_uri": "https://localhost:8080/"
        },
        "id": "SoogledsR5qG",
        "outputId": "eebef2dc-57a4-43c9-9501-0467caf1753c"
      },
      "execution_count": 22,
      "outputs": [
        {
          "output_type": "execute_result",
          "data": {
            "text/plain": [
              "4"
            ]
          },
          "metadata": {},
          "execution_count": 22
        }
      ]
    }
  ]
}