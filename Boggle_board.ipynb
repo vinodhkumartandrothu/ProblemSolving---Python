{
  "nbformat": 4,
  "nbformat_minor": 0,
  "metadata": {
    "colab": {
      "provenance": []
    },
    "kernelspec": {
      "name": "python3",
      "display_name": "Python 3"
    },
    "language_info": {
      "name": "python"
    }
  },
  "cells": [
    {
      "cell_type": "code",
      "execution_count": 17,
      "metadata": {
        "colab": {
          "base_uri": "https://localhost:8080/"
        },
        "id": "psAUqgxsbYHp",
        "outputId": "f0c0d8f5-12f2-4a94-e5d4-3d4a74a5e758"
      },
      "outputs": [
        {
          "output_type": "stream",
          "name": "stdout",
          "text": [
            "['CAT', 'ANT']\n"
          ]
        }
      ],
      "source": [
        "def exist(board, word):\n",
        "    n = len(board)\n",
        "   # print(n)\n",
        "    m = len(board[0])\n",
        "    #print(m)\n",
        "    for i in range(n):\n",
        "        for j in range(m):\n",
        "            if dfs(board, i, j, word, n, m):\n",
        "                return True\n",
        "    return False\n",
        "\n",
        "def dfs(board, i, j, word, n, m):\n",
        "    if len(word) == 0:\n",
        "        return True\n",
        "    if i < 0 or i >= n or j < 0 or j >= m or board[i][j] != word[0]:\n",
        "        return False\n",
        "    temp = board[i][j]\n",
        "    check = word[1:]\n",
        "    board[i][j] = '#'\n",
        "    ans = dfs(board, i - 1, j - 1, check, n, m) or \\\n",
        "          dfs(board, i - 1, j, check, n, m) or \\\n",
        "          dfs(board, i - 1, j + 1, check, n, m) or \\\n",
        "          dfs(board, i, j - 1, check, n, m) or \\\n",
        "          dfs(board, i, j + 1, check, n, m) or \\\n",
        "          dfs(board, i + 1, j - 1, check, n, m) or \\\n",
        "          dfs(board, i + 1, j, check, n, m) or \\\n",
        "          dfs(board, i + 1, j + 1, check, n, m)\n",
        "    board[i][j] = temp\n",
        "    return ans\n",
        "\n",
        "def wordBoggle(board, dict):\n",
        "    ans = []\n",
        "    for word in dict:\n",
        "        if exist(board, word):\n",
        "            ans.append(word)\n",
        "    return ans\n",
        "\n",
        "# Example input data\n",
        "\n",
        "dictionary = [\"CAT\", \"ANT\", \"FOR\"]\n",
        "N = len(dictionary)\n",
        "R = 3\n",
        "C = 3\n",
        "board = [\n",
        "    ['C', 'A', 'P'],\n",
        "    ['A', 'N', 'D'],\n",
        "    ['T', 'I', 'E']\n",
        "]\n",
        "\n",
        "# Call the function to find words\n",
        "result = wordBoggle(board, dictionary)\n",
        "\n",
        "# Print the result\n",
        "print(result)\n"
      ]
    },
    {
      "cell_type": "code",
      "source": [
        "word = \"CAT\"\n",
        "check = word[1:]\n",
        "print(check)"
      ],
      "metadata": {
        "colab": {
          "base_uri": "https://localhost:8080/"
        },
        "id": "krZTBA8Cgf5-",
        "outputId": "3ff92f27-63ea-43ab-e3eb-6ec7b185e380"
      },
      "execution_count": 16,
      "outputs": [
        {
          "output_type": "stream",
          "name": "stdout",
          "text": [
            "AT\n"
          ]
        }
      ]
    }
  ]
}