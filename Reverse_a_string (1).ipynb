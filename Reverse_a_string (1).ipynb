{
  "nbformat": 4,
  "nbformat_minor": 0,
  "metadata": {
    "colab": {
      "provenance": []
    },
    "kernelspec": {
      "name": "python3",
      "display_name": "Python 3"
    },
    "language_info": {
      "name": "python"
    }
  },
  "cells": [
    {
      "cell_type": "code",
      "execution_count": 18,
      "metadata": {
        "colab": {
          "base_uri": "https://localhost:8080/"
        },
        "id": "EVCLKs9B7Ux_",
        "outputId": "c558038a-a356-4b51-9b4c-ceada2e1b085"
      },
      "outputs": [
        {
          "output_type": "stream",
          "name": "stdout",
          "text": [
            "The original string is : hey\n",
            "The reversed string is : h\n",
            "eh\n",
            "yeh\n",
            "yeh\n"
          ]
        }
      ],
      "source": [
        "\n",
        "def reverse(s):\n",
        "    str = \"\"\n",
        "    for i in s:\n",
        "        str = i + str\n",
        "        print(str)\n",
        "    return str\n",
        " \n",
        "s = \"hey\"\n",
        " \n",
        "print(\"The original string is : \", end=\"\")\n",
        "print(s)\n",
        " \n",
        "print(\"The reversed string is : \", end=\"\")\n",
        "print(reverse(s))"
      ]
    },
    {
      "cell_type": "code",
      "source": [
        "s = 'see'\n",
        "rev = s[::-1]\n",
        "print(rev)"
      ],
      "metadata": {
        "colab": {
          "base_uri": "https://localhost:8080/"
        },
        "id": "FTnfzep-7sK7",
        "outputId": "c8ebc7e8-0773-461f-81f8-df25dcb01c18"
      },
      "execution_count": 7,
      "outputs": [
        {
          "output_type": "stream",
          "name": "stdout",
          "text": [
            "ees\n"
          ]
        }
      ]
    },
    {
      "cell_type": "code",
      "source": [
        "def reversea(s,n):\n",
        "  str = ''\n",
        "  for i in range(n):\n",
        "    n-i = i\n",
        "  return s[n-i]\n",
        "\n",
        "s = \"leela\"\n",
        "n = len(s)\n",
        "reversea(s, n)"
      ],
      "metadata": {
        "colab": {
          "base_uri": "https://localhost:8080/",
          "height": 131
        },
        "id": "nURzJSIX9Ypm",
        "outputId": "3bf4a17c-c33d-4b85-ba6a-7fe51d9eba1d"
      },
      "execution_count": 16,
      "outputs": [
        {
          "output_type": "error",
          "ename": "SyntaxError",
          "evalue": "ignored",
          "traceback": [
            "\u001b[0;36m  File \u001b[0;32m\"<ipython-input-16-254dff1af50d>\"\u001b[0;36m, line \u001b[0;32m4\u001b[0m\n\u001b[0;31m    n-i = i\u001b[0m\n\u001b[0m    ^\u001b[0m\n\u001b[0;31mSyntaxError\u001b[0m\u001b[0;31m:\u001b[0m cannot assign to expression here. Maybe you meant '==' instead of '='?\n"
          ]
        }
      ]
    }
  ]
}