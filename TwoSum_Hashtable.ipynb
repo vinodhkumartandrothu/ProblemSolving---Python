{
  "nbformat": 4,
  "nbformat_minor": 0,
  "metadata": {
    "colab": {
      "provenance": []
    },
    "kernelspec": {
      "name": "python3",
      "display_name": "Python 3"
    },
    "language_info": {
      "name": "python"
    }
  },
  "cells": [
    {
      "cell_type": "code",
      "source": [
        "def Twosum_hash(nums, target):\n",
        "  hashtable = dict()\n",
        "  rem_val = 0\n",
        "  for index, val in enumerate(nums):\n",
        "    rem_val = target - val\n",
        "\n",
        "    if rem_val in hashtable:\n",
        "      return [hashtable[rem_val], index]\n",
        "    \n",
        "    hashtable[val] = index\n",
        "\n",
        "nums = [2,7,9,11]\n",
        "target = 16\n",
        "Twosum_hash(nums, target)"
      ],
      "metadata": {
        "colab": {
          "base_uri": "https://localhost:8080/"
        },
        "id": "utc9ex0XKusU",
        "outputId": "7c1c69ad-daa3-4fd6-918b-0210ef9eb328"
      },
      "execution_count": null,
      "outputs": [
        {
          "output_type": "execute_result",
          "data": {
            "text/plain": [
              "[1, 2]"
            ]
          },
          "metadata": {},
          "execution_count": 9
        }
      ]
    }
  ]
}