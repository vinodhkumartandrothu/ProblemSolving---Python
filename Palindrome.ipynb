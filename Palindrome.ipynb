{
  "nbformat": 4,
  "nbformat_minor": 0,
  "metadata": {
    "colab": {
      "provenance": []
    },
    "kernelspec": {
      "name": "python3",
      "display_name": "Python 3"
    },
    "language_info": {
      "name": "python"
    }
  },
  "cells": [
    {
      "cell_type": "code",
      "execution_count": 18,
      "metadata": {
        "colab": {
          "base_uri": "https://localhost:8080/"
        },
        "id": "SurlpzAaCSxA",
        "outputId": "106a9cf6-229d-47f8-a3c0-5ed7fb715264"
      },
      "outputs": [
        {
          "output_type": "execute_result",
          "data": {
            "text/plain": [
              "True"
            ]
          },
          "metadata": {},
          "execution_count": 18
        }
      ],
      "source": [
        "def palindrome(n):\n",
        "  rev = 0\n",
        "  temp = n\n",
        "  while(temp != 0):\n",
        "    rev = (rev*10)+ (temp % 10)\n",
        "    #print(rev)\n",
        "    temp = temp // 10\n",
        "  if (rev == n):\n",
        "    return True\n",
        "  else: \n",
        "    return False\n",
        "\n",
        "n = 121\n",
        "palindrome(n)"
      ]
    }
  ]
}