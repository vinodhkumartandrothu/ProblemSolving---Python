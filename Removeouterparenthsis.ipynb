{
  "nbformat": 4,
  "nbformat_minor": 0,
  "metadata": {
    "colab": {
      "provenance": []
    },
    "kernelspec": {
      "name": "python3",
      "display_name": "Python 3"
    },
    "language_info": {
      "name": "python"
    }
  },
  "cells": [
    {
      "cell_type": "code",
      "execution_count": 3,
      "metadata": {
        "id": "cExD-RF3tVRV",
        "outputId": "7228e6a2-53f8-44ce-bc66-06c2a1c24b57",
        "colab": {
          "base_uri": "https://localhost:8080/"
        }
      },
      "outputs": [
        {
          "output_type": "stream",
          "name": "stdout",
          "text": [
            "()()()\n"
          ]
        }
      ],
      "source": [
        "def removeouterparenthesis(s):\n",
        "    count = 0\n",
        "    res = \"\"\n",
        "    for i in s:\n",
        "        if (i == '(' and count > 0):\n",
        "            res += i\n",
        "        if (i == '('):\n",
        "            count += 1\n",
        "        if (i == ')' and count > 1):\n",
        "            res += i\n",
        "\n",
        "        if (i == ')'):\n",
        "            count -= 1\n",
        "    print(res)\n",
        "\n",
        "s = \"(()())(())()()\"\n",
        "removeouterparenthesis(s)"
      ]
    }
  ]
}