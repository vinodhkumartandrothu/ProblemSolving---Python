{
  "nbformat": 4,
  "nbformat_minor": 0,
  "metadata": {
    "colab": {
      "provenance": []
    },
    "kernelspec": {
      "name": "python3",
      "display_name": "Python 3"
    },
    "language_info": {
      "name": "python"
    }
  },
  "cells": [
    {
      "cell_type": "code",
      "execution_count": 1,
      "metadata": {
        "colab": {
          "base_uri": "https://localhost:8080/"
        },
        "id": "oVE5VTv9gC6_",
        "outputId": "c54ca4b5-b926-4d4d-ec9e-ddafac2f28ca"
      },
      "outputs": [
        {
          "output_type": "stream",
          "name": "stdout",
          "text": [
            "True\n"
          ]
        }
      ],
      "source": [
        "open_brac = [\"{\", \"[\", \"(\"]\n",
        "closed_brac = [\"}\", \"]\", \")\"]\n",
        "\n",
        "def valid_parenthesis(s):\n",
        "    stack = []\n",
        "    for i in s:\n",
        "        if i in open_brac:\n",
        "            stack.append(i)\n",
        "        elif i in closed_brac:\n",
        "            pos = closed_brac.index(i)\n",
        "\n",
        "            if ((len(stack) > 0) and (open_brac[pos] == stack[len(stack) - 1])):\n",
        "                stack.pop()\n",
        "            else:\n",
        "                return \"unbalanced\"\n",
        "\n",
        "    if len(stack) == 0:\n",
        "        return True\n",
        "    else:\n",
        "        return False\n",
        "\n",
        "\n",
        "s = \"()[]\"\n",
        "print(valid_parenthesis(s))\n"
      ]
    }
  ]
}