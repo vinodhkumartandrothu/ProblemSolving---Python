{
  "nbformat": 4,
  "nbformat_minor": 0,
  "metadata": {
    "colab": {
      "provenance": []
    },
    "kernelspec": {
      "name": "python3",
      "display_name": "Python 3"
    },
    "language_info": {
      "name": "python"
    }
  },
  "cells": [
    {
      "cell_type": "code",
      "execution_count": 2,
      "metadata": {
        "colab": {
          "base_uri": "https://localhost:8080/"
        },
        "id": "Fe1O6AKUw_q1",
        "outputId": "ba40fd42-34d2-405d-c34a-441d99ef3d21"
      },
      "outputs": [
        {
          "output_type": "execute_result",
          "data": {
            "text/plain": [
              "0"
            ]
          },
          "metadata": {},
          "execution_count": 2
        }
      ],
      "source": [
        "def jewels_and_stones(jewels, stones):\n",
        "  count = 0\n",
        "  for i in jewels:\n",
        "    for j in stones:\n",
        "      if i == j:\n",
        "        count += 1\n",
        "  return count\n",
        "\n",
        "jewels = \"z\"\n",
        "stones = \"ZZ\"\n",
        "jewels_and_stones(jewels,stones)\n"
      ]
    },
    {
      "cell_type": "markdown",
      "source": [
        "####Hashmap"
      ],
      "metadata": {
        "id": "tYrk3w2ZyHru"
      }
    },
    {
      "cell_type": "code",
      "source": [
        "def jewels_and_stones(jewels, stones):\n",
        "  dict1 = dict()\n",
        "  for i in stones:\n",
        "    if i in dict1:\n",
        "      dict1[i] += 1\n",
        "    else:\n",
        "      dict1[i] = 1\n",
        "\n",
        "  count = 0\n",
        "  for j in jewels:\n",
        "    if j in dict1:\n",
        "      count += dict1[j]\n",
        "\n",
        "  return count\n",
        "\n",
        "\n",
        "\n",
        "jewels = \"Aa\"\n",
        "stones = \"ZZ\"\n",
        "jewels_and_stones(jewels,stones)"
      ],
      "metadata": {
        "colab": {
          "base_uri": "https://localhost:8080/"
        },
        "id": "tdwbbMj3yKaN",
        "outputId": "df9c1ca2-308a-434e-9ed2-eb4a2e673c4b"
      },
      "execution_count": 10,
      "outputs": [
        {
          "output_type": "execute_result",
          "data": {
            "text/plain": [
              "0"
            ]
          },
          "metadata": {},
          "execution_count": 10
        }
      ]
    },
    {
      "cell_type": "code",
      "source": [],
      "metadata": {
        "id": "G5EfVr232_BT"
      },
      "execution_count": null,
      "outputs": []
    }
  ]
}