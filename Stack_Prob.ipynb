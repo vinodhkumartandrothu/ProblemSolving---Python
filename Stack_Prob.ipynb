{
  "nbformat": 4,
  "nbformat_minor": 0,
  "metadata": {
    "colab": {
      "provenance": []
    },
    "kernelspec": {
      "name": "python3",
      "display_name": "Python 3"
    },
    "language_info": {
      "name": "python"
    }
  },
  "cells": [
    {
      "cell_type": "code",
      "source": [
        "\n",
        "open_list = [\"{\",\"[\",\"(\"]\n",
        "close_list = [\"}\",\"]\",\")\"]\n",
        "\n",
        "\n",
        "def check(myStr):\n",
        "\tstack = []\n",
        "\tfor i in myStr:\n",
        "\t\tif i in open_list:\n",
        "\t\t\tstack.append(i)\n",
        "\t\telif i in close_list:\n",
        "\t\t\tpos = close_list.index(i)\n",
        "\t\t\tif ((len(stack) > 0) and\n",
        "\t\t\t\t(open_list[pos] == stack[len(stack)-1])):\n",
        "\t\t\t\tstack.pop()\n",
        "\t\t\telse:\n",
        "\t\t\t\treturn \"Unbalanced\"\n",
        "\tif len(stack) == 0:\n",
        "\t\treturn \"Balanced\"\n",
        "\telse:\n",
        "\t\treturn \"Unbalanced\"\n",
        "\n",
        "\n",
        "\n",
        "string = \"{[]{()}}\"\n",
        "print(string,\"-\", check(string))\n",
        "\n",
        "string = \"[{}{})(]\"\n",
        "print(string,\"-\", check(string))\n",
        "\n"
      ],
      "metadata": {
        "colab": {
          "base_uri": "https://localhost:8080/"
        },
        "id": "B9KWYc7KGZuv",
        "outputId": "265d8017-47a6-4890-a11f-107208a087c8"
      },
      "execution_count": 9,
      "outputs": [
        {
          "output_type": "stream",
          "name": "stdout",
          "text": [
            "{[]{()}} - Balanced\n",
            "[{}{})(] - Unbalanced\n",
            "((() - Unbalanced\n"
          ]
        }
      ]
    }
  ]
}