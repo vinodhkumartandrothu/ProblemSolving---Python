{
  "nbformat": 4,
  "nbformat_minor": 0,
  "metadata": {
    "colab": {
      "provenance": []
    },
    "kernelspec": {
      "name": "python3",
      "display_name": "Python 3"
    },
    "language_info": {
      "name": "python"
    }
  },
  "cells": [
    {
      "cell_type": "code",
      "execution_count": 12,
      "metadata": {
        "colab": {
          "base_uri": "https://localhost:8080/"
        },
        "id": "tO9RV__njdOa",
        "outputId": "777d3dcd-ffa7-4fbb-a89f-b660020e59fc"
      },
      "outputs": [
        {
          "output_type": "execute_result",
          "data": {
            "text/plain": [
              "2"
            ]
          },
          "metadata": {},
          "execution_count": 12
        }
      ],
      "source": [
        "def uniq_s(s):\n",
        "    count = 0\n",
        "    for i,c in enumerate(s):\n",
        "      #print(c)\n",
        "      if s.count(c)==1:\n",
        "          return i\n",
        "          break\n",
        "    return -1\n",
        "\n",
        "     \n",
        "\n",
        "s = \"loveleetcode\"\n",
        "uniq_s(s)"
      ]
    }
  ]
}