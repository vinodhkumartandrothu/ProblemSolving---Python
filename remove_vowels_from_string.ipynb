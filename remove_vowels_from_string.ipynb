{
  "nbformat": 4,
  "nbformat_minor": 0,
  "metadata": {
    "colab": {
      "provenance": []
    },
    "kernelspec": {
      "name": "python3",
      "display_name": "Python 3"
    },
    "language_info": {
      "name": "python"
    }
  },
  "cells": [
    {
      "cell_type": "code",
      "execution_count": 17,
      "metadata": {
        "id": "h5AaUJbQbG5t"
      },
      "outputs": [],
      "source": [
        "def rvowels(s):\n",
        "  for i in s:\n",
        "    if i == 'a' or i =='e' or i == 'i' or i == 'o' or i == 'u':\n",
        "      continue\n",
        "      \n",
        "    else:\n",
        "      print (i, end = '')\n",
        "\n",
        "s = \"eeeee\"\n",
        "if \n",
        "rvowels(s)"
      ]
    },
    {
      "cell_type": "code",
      "source": [
        "string = \"Vinu\"\n",
        "\n",
        "vowels = ['a', 'e', 'i', 'o', 'u', 'A', 'E', 'I', 'O', 'U']\n",
        "result = \"\"\n",
        "\n",
        "for i in range(len(string)):\n",
        "    if string[i] not in vowels:\n",
        "        result = result + string[i]\n",
        "\n",
        "print(\"\\nAfter removing Vowels: \", result)\n"
      ],
      "metadata": {
        "colab": {
          "base_uri": "https://localhost:8080/"
        },
        "id": "rh02RzxCizky",
        "outputId": "d9e678bd-ce0e-413d-f428-d9b9ffa21d6e"
      },
      "execution_count": 19,
      "outputs": [
        {
          "output_type": "stream",
          "name": "stdout",
          "text": [
            "\n",
            "After removing Vowels:  Vn\n"
          ]
        }
      ]
    }
  ]
}