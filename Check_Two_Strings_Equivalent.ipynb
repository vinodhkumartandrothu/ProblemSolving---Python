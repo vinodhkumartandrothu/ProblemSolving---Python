{
  "nbformat": 4,
  "nbformat_minor": 0,
  "metadata": {
    "colab": {
      "provenance": []
    },
    "kernelspec": {
      "name": "python3",
      "display_name": "Python 3"
    },
    "language_info": {
      "name": "python"
    }
  },
  "cells": [
    {
      "cell_type": "code",
      "execution_count": 13,
      "metadata": {
        "colab": {
          "base_uri": "https://localhost:8080/"
        },
        "id": "RybwXFKmq7Ui",
        "outputId": "b1ceab5f-8b21-4721-8a70-1cc4a33ca11a"
      },
      "outputs": [
        {
          "output_type": "stream",
          "name": "stdout",
          "text": [
            "True\n"
          ]
        }
      ],
      "source": [
        "def is_TwoStrings_Equi(word1, word2):\n",
        "  res = \" \"\n",
        "  res1 = \" \"\n",
        "  for i in word1:\n",
        "    res =  res + i\n",
        "    #print(res)\n",
        "  for j in word2:\n",
        "    res1 = res1 + j\n",
        "    #print(res1)\n",
        "  \n",
        "  if res == res1:\n",
        "    print(True)\n",
        "  else:\n",
        "    print(False)\n",
        "\n",
        "word1  = [\"abc\", \"d\", \"defg\"]\n",
        "word2 = [\"abcddefg\"]\n",
        "#word1 = [\"a\", \"cb\"]\n",
        "#word2 = [\"ab\", \"c\"]\n",
        "#word1 = [\"ab\", \"c\"]\n",
        "#word2 = [\"a\", \"bc\"]\n",
        "is_TwoStrings_Equi(word1, word2)"
      ]
    }
  ]
}