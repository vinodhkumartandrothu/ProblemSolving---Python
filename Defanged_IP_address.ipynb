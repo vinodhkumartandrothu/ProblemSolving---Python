{
  "nbformat": 4,
  "nbformat_minor": 0,
  "metadata": {
    "colab": {
      "provenance": []
    },
    "kernelspec": {
      "name": "python3",
      "display_name": "Python 3"
    },
    "language_info": {
      "name": "python"
    }
  },
  "cells": [
    {
      "cell_type": "code",
      "execution_count": 17,
      "metadata": {
        "colab": {
          "base_uri": "https://localhost:8080/",
          "height": 35
        },
        "id": "OurcSuoA8lz1",
        "outputId": "0e4aec1d-7391-4852-f8af-7a494b862bd9"
      },
      "outputs": [
        {
          "output_type": "execute_result",
          "data": {
            "text/plain": [
              "'1[.]1[.]1[.]1'"
            ],
            "application/vnd.google.colaboratory.intrinsic+json": {
              "type": "string"
            }
          },
          "metadata": {},
          "execution_count": 17
        }
      ],
      "source": [
        "def d_ipaddress(s,l):\n",
        "  defangIP = \"\"\n",
        "  for i in range(l):\n",
        "    if s[i] == \".\":\n",
        "      defangIP += '[.]'\n",
        "    else:\n",
        "      defangIP += s[i]\n",
        "   #else:\n",
        "      #continue\n",
        "  return defangIP\n",
        "  \n",
        "\n",
        "s = \"1.1.1.1\"\n",
        "#print(len(s))\n",
        "l = len(s)\n",
        "d_ipaddress(s, l)"
      ]
    }
  ]
}