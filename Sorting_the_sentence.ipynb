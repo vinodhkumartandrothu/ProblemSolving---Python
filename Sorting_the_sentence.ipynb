{
  "nbformat": 4,
  "nbformat_minor": 0,
  "metadata": {
    "colab": {
      "provenance": []
    },
    "kernelspec": {
      "name": "python3",
      "display_name": "Python 3"
    },
    "language_info": {
      "name": "python"
    }
  },
  "cells": [
    {
      "cell_type": "code",
      "execution_count": 31,
      "metadata": {
        "colab": {
          "base_uri": "https://localhost:8080/",
          "height": 35
        },
        "id": "8vcOMparZ5fq",
        "outputId": "6049c7bd-9583-4484-8493-0a7f4dcaf831"
      },
      "outputs": [
        {
          "output_type": "execute_result",
          "data": {
            "text/plain": [
              "'this is a sentence'"
            ],
            "application/vnd.google.colaboratory.intrinsic+json": {
              "type": "string"
            }
          },
          "metadata": {},
          "execution_count": 31
        }
      ],
      "source": [
        "def is_sort_sent(s):\n",
        "   \n",
        "    words = s.split()\n",
        "    n = len(words)\n",
        "    #print(n)\n",
        "\n",
        "    sent = [None]*n\n",
        "\n",
        "    for i in range(n):\n",
        "      sent[int(words[i][-1]) - 1] = words[i][:-1]\n",
        "      #print(sent)\n",
        "\n",
        "    return \" \".join(sent)\n",
        "\n",
        "s = \"is2 sentence4 this1 a3\" \n",
        "is_sort_sent(s)\n"
      ]
    },
    {
      "cell_type": "code",
      "source": [
        "s = \"is2 sentence4 this1 a3\"\n",
        "res = s.split()\n",
        "n = len(res)\n",
        "for i in range(n):\n",
        "  temp = res[i][-1]\n",
        "  print(temp)\n",
        "  tem = res[i][:-1]\n",
        "  print(tem)"
      ],
      "metadata": {
        "colab": {
          "base_uri": "https://localhost:8080/"
        },
        "id": "PyhGtv2Ab5uR",
        "outputId": "604431e5-ab8e-4981-ccdd-b66e4b3f7fe1"
      },
      "execution_count": 28,
      "outputs": [
        {
          "output_type": "stream",
          "name": "stdout",
          "text": [
            "2\n",
            "is\n",
            "4\n",
            "sentence\n",
            "1\n",
            "this\n",
            "3\n",
            "a\n"
          ]
        }
      ]
    },
    {
      "cell_type": "code",
      "source": [
        "myStr = 'Thisisit'\n",
        "\n",
        "# Display the String\n",
        "print(\"String = \", myStr)\n",
        "\n",
        "#Slice the string\n",
        "# Negative Indexing with step\n",
        "print(\"String after slicing (negative indexing) = \", myStr[:-1])"
      ],
      "metadata": {
        "colab": {
          "base_uri": "https://localhost:8080/"
        },
        "id": "Sl5XJuqZds5c",
        "outputId": "6929ad60-3bec-40f3-90d1-ad080270436a"
      },
      "execution_count": 27,
      "outputs": [
        {
          "output_type": "stream",
          "name": "stdout",
          "text": [
            "String =  Thisisit\n",
            "String after slicing (negative indexing) =  Thisisi\n"
          ]
        }
      ]
    }
  ]
}