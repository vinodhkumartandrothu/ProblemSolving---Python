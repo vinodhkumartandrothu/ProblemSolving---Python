{
  "nbformat": 4,
  "nbformat_minor": 0,
  "metadata": {
    "colab": {
      "provenance": []
    },
    "kernelspec": {
      "name": "python3",
      "display_name": "Python 3"
    },
    "language_info": {
      "name": "python"
    }
  },
  "cells": [
    {
      "cell_type": "markdown",
      "source": [
        "##### Queue is a linear data structure that stores items in First In First Out (FIFO) manner. With a queue the least recently added item is removed first\n",
        "\n",
        "##### Enqueue: Adds an item to the queue. If the queue is full, then it is said to be an Overflow condition – Time Complexity : O(1)\n",
        "\n",
        "##### Removes an item from the queue. The items are popped in the same order in which they are pushed. If the queue is empty, then it is said to be an Underflow condition – Time Complexity : O(1)\n",
        "\n",
        "##### Front: Get the front item from queue – Time Complexity : O(1)\n",
        "##### Rear: Get the last item from queue – Time Complexity : O(1)"
      ],
      "metadata": {
        "id": "44XAfm7NUSaN"
      }
    },
    {
      "cell_type": "code",
      "source": [
        "# Queue in Python can be implemented by the following ways:\n",
        " \n",
        "#list - O(n) - Inserting and popping elements\n",
        "#collections.deque - \n",
        "#queue.Queue\n",
        "#a queue follows FIFO order, so the first element you enqueue should be the first element you dequeue.pop(0)\n",
        "\n",
        "queue = []\n",
        "\n",
        "queue.append('vin')\n",
        "queue.append('neer')\n",
        "\n",
        "print(\"\\nAppend\\n\")\n",
        "print(queue)\n",
        "\n",
        "print(queue.pop(0))\n",
        "\n",
        "\n",
        "print(queue)\n",
        "\n"
      ],
      "metadata": {
        "colab": {
          "base_uri": "https://localhost:8080/"
        },
        "id": "A4EUSnnfUXmp",
        "outputId": "fb8c1fd4-8e93-473b-9a98-16b8f85ba08e"
      },
      "execution_count": 21,
      "outputs": [
        {
          "output_type": "stream",
          "name": "stdout",
          "text": [
            "\n",
            "Append\n",
            "\n",
            "['vin', 'neer']\n",
            "vin\n",
            "['neer']\n"
          ]
        }
      ]
    },
    {
      "cell_type": "code",
      "source": [
        "# deque - O(1) - append and pop operations\n",
        "\n",
        "from collections import deque\n",
        "q = deque()\n",
        "\n",
        "q.append(1)\n",
        "q.append(2)\n",
        "q.append(3)\n",
        "\n",
        "print(q)\n",
        "\n",
        "print(q.popleft())\n",
        "print(q.popleft())\n",
        "\n",
        "print(q)\n"
      ],
      "metadata": {
        "colab": {
          "base_uri": "https://localhost:8080/"
        },
        "id": "pMgu8TZbci4h",
        "outputId": "11639cc9-37e1-47e1-c926-a0ab9adef163"
      },
      "execution_count": 20,
      "outputs": [
        {
          "output_type": "stream",
          "name": "stdout",
          "text": [
            "deque([1, 2, 3])\n",
            "1\n",
            "2\n",
            "deque([3])\n"
          ]
        }
      ]
    },
    {
      "cell_type": "code",
      "source": [
        "# Implementation using queue.Queue\n",
        "from queue import Queue\n",
        "q = Queue(maxsize = 3)\n",
        "\n",
        "\n",
        "\n",
        "q.put(1)\n",
        "q.put(3)\n",
        "q.put(4)\n",
        "#q.put(4)\n",
        "print(q.qsize())\n",
        "print(q)\n",
        "print(q.full())\n",
        "\n",
        "print(q.get())\n",
        "print(q.get())\n",
        "print(q.get())\n",
        "\n",
        "print(q.empty())\n",
        "#print(q.get_nowait())\n"
      ],
      "metadata": {
        "colab": {
          "base_uri": "https://localhost:8080/"
        },
        "id": "0ate-cf4eEDF",
        "outputId": "f231f1c6-80a1-4db6-a82f-baea5720de24"
      },
      "execution_count": 32,
      "outputs": [
        {
          "output_type": "stream",
          "name": "stdout",
          "text": [
            "3\n",
            "<queue.Queue object at 0x7f4ece7d2fb0>\n",
            "True\n",
            "1\n",
            "3\n",
            "4\n",
            "True\n"
          ]
        }
      ]
    }
  ]
}