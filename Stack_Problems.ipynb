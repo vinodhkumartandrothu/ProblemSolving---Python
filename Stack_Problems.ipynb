{
  "nbformat": 4,
  "nbformat_minor": 0,
  "metadata": {
    "colab": {
      "provenance": []
    },
    "kernelspec": {
      "name": "python3",
      "display_name": "Python 3"
    },
    "language_info": {
      "name": "python"
    }
  },
  "cells": [
    {
      "cell_type": "markdown",
      "source": [
        "#### Wed Task (6/7/2023)"
      ],
      "metadata": {
        "id": "tMNotNmy1soJ"
      }
    },
    {
      "cell_type": "markdown",
      "source": [
        "#### Reverse a string using stack\n",
        "\n",
        "Time complexity - O(n)\n",
        "Space Complexity - O(n)"
      ],
      "metadata": {
        "id": "L0zIBF4C147o"
      }
    },
    {
      "cell_type": "code",
      "execution_count": 18,
      "metadata": {
        "colab": {
          "base_uri": "https://localhost:8080/",
          "height": 35
        },
        "id": "NWOuBcutv3OQ",
        "outputId": "9025c41b-13fb-4b24-a726-a8def426cb21"
      },
      "outputs": [
        {
          "output_type": "execute_result",
          "data": {
            "text/plain": [
              "'hdhhdoniv'"
            ],
            "application/vnd.google.colaboratory.intrinsic+json": {
              "type": "string"
            }
          },
          "metadata": {},
          "execution_count": 18
        }
      ],
      "source": [
        "from pyarabic.stack import Stack\n",
        "def rev_s(s):\n",
        "  stack = Stack()\n",
        "  rev_str = \"\"\n",
        "  for i in s:\n",
        "    stack.push(i)\n",
        "\n",
        "  while not stack.is_empty():\n",
        "    rev_str += stack.pop()\n",
        "  return rev_str\n",
        "\n",
        "s = \"vinodhhdh\"\n",
        "rev_s(s)\n"
      ]
    },
    {
      "cell_type": "markdown",
      "source": [
        "#### Check if an expression is balanced or not\n",
        "\n",
        "Time Complexity - O(n)\n",
        "Space Complexity - O(n)"
      ],
      "metadata": {
        "id": "XtgLqYqv18nv"
      }
    },
    {
      "cell_type": "code",
      "source": [
        "def are_brackets_balanced(s):\n",
        "    stack = []\n",
        "    for ch in s:\n",
        "        if ch in ('1', '3', '2'):\n",
        "            stack.append(ch)\n",
        "        else:\n",
        "            if stack and ((stack[-1] == '(' and ch == ')') or\n",
        "                          (stack[-1] == '{' and ch == '}') or\n",
        "                          (stack[-1] == '[' and ch == ']')):\n",
        "                stack.pop()\n",
        "            else:\n",
        "                return False\n",
        "    return not stack\n",
        " \n",
        "expr = \"{()}[]}\"\n",
        " \n",
        "# Function call\n",
        "if are_brackets_balanced(expr):\n",
        "    print(\"Balanced\")\n",
        "else:\n",
        "    print(\"Not Balanced\")"
      ],
      "metadata": {
        "colab": {
          "base_uri": "https://localhost:8080/"
        },
        "id": "CXexaHFo135n",
        "outputId": "7f5f58eb-085a-4ae1-99fd-24691d9a4afe"
      },
      "execution_count": 26,
      "outputs": [
        {
          "output_type": "stream",
          "name": "stdout",
          "text": [
            "Not Balanced\n"
          ]
        }
      ]
    },
    {
      "cell_type": "code",
      "source": [
        "stack = []\n",
        "\n",
        "stack.append('(')\n",
        "stack.append('{')\n",
        "\n",
        "stack.pop()\n",
        "stack.pop()\n",
        "\n",
        "if stack:\n",
        "  \n",
        "print(stack[0])"
      ],
      "metadata": {
        "colab": {
          "base_uri": "https://localhost:8080/"
        },
        "id": "GIedZmDm5o23",
        "outputId": "affaa13c-a80a-44bc-ee51-b71a7d3a8f0b"
      },
      "execution_count": 23,
      "outputs": [
        {
          "output_type": "stream",
          "name": "stdout",
          "text": [
            "(\n"
          ]
        }
      ]
    }
  ]
}