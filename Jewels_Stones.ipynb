{
  "nbformat": 4,
  "nbformat_minor": 0,
  "metadata": {
    "colab": {
      "provenance": []
    },
    "kernelspec": {
      "name": "python3",
      "display_name": "Python 3"
    },
    "language_info": {
      "name": "python"
    }
  },
  "cells": [
    {
      "cell_type": "code",
      "execution_count": null,
      "metadata": {
        "colab": {
          "base_uri": "https://localhost:8080/"
        },
        "id": "TAkjMY-uYNEy",
        "outputId": "98cb037e-7e40-448b-a99a-5058211d5e18"
      },
      "outputs": [
        {
          "output_type": "stream",
          "name": "stdout",
          "text": [
            "4\n"
          ]
        }
      ],
      "source": [
        "def is_jewels_stones(jewels, stones):\n",
        "  count = 0\n",
        "  for i in jewels:\n",
        "    for j in stones:\n",
        "      if i == j:\n",
        "        count += 1\n",
        "  print(count)\n",
        "jewels = \"aBAC\"\n",
        "stones = \"abcAAC\"\n",
        "is_jewels_stones(jewels, stones)"
      ]
    }
  ]
}