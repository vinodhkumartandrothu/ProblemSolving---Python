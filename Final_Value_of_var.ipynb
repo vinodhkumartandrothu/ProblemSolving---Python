{
  "nbformat": 4,
  "nbformat_minor": 0,
  "metadata": {
    "colab": {
      "provenance": []
    },
    "kernelspec": {
      "name": "python3",
      "display_name": "Python 3"
    },
    "language_info": {
      "name": "python"
    }
  },
  "cells": [
    {
      "cell_type": "code",
      "execution_count": 2,
      "metadata": {
        "colab": {
          "base_uri": "https://localhost:8080/"
        },
        "id": "Ktsk3mOmw5qk",
        "outputId": "29ed4c77-4eeb-4f99-c36d-4897c509af4c"
      },
      "outputs": [
        {
          "output_type": "execute_result",
          "data": {
            "text/plain": [
              "3"
            ]
          },
          "metadata": {},
          "execution_count": 2
        }
      ],
      "source": [
        "def is_Final_val_var(oper):\n",
        "  x = 0\n",
        "  for i in oper:\n",
        "    if i == \"--x\":\n",
        "      x = x -1\n",
        "    elif i == \"++x\":\n",
        "      x = x + 1\n",
        "    else:\n",
        "      x = x + 1\n",
        "  return x\n",
        "\n",
        "\n",
        "oper = [\"--x\", \"++x\", \"x++\"]\n",
        "oper = [\"++X\",\"++X\",\"X++\"]\n",
        "is_Final_val_var(oper)"
      ]
    }
  ]
}