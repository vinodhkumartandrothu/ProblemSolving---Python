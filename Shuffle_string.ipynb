{
  "nbformat": 4,
  "nbformat_minor": 0,
  "metadata": {
    "colab": {
      "provenance": []
    },
    "kernelspec": {
      "name": "python3",
      "display_name": "Python 3"
    },
    "language_info": {
      "name": "python"
    }
  },
  "cells": [
    {
      "cell_type": "code",
      "execution_count": 7,
      "metadata": {
        "colab": {
          "base_uri": "https://localhost:8080/",
          "height": 35
        },
        "id": "VMbh0BP3Tgbc",
        "outputId": "6fe1645d-81bc-4f19-c52a-3ac7397634f8"
      },
      "outputs": [
        {
          "output_type": "execute_result",
          "data": {
            "text/plain": [
              "'rat'"
            ],
            "application/vnd.google.colaboratory.intrinsic+json": {
              "type": "string"
            }
          },
          "metadata": {},
          "execution_count": 7
        }
      ],
      "source": [
        "def is_shuffle_string(s, indices):\n",
        "  res = list(s)\n",
        "  l = len(s)\n",
        "  for i in range(l):\n",
        "    res[indices[i]] = s[i]\n",
        "  return ''.join(res)\n",
        "#print(res)\n",
        "\n",
        "s = \"art\"\n",
        "indices = [1,0,2]\n",
        "is_shuffle_string(s, indices)\n"
      ]
    }
  ]
}